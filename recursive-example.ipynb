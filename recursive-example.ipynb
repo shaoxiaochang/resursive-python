{
 "cells": [
  {
   "cell_type": "code",
   "execution_count": 1,
   "metadata": {},
   "outputs": [],
   "source": [
    "#recursive helloworld\n",
    "def hi_recursive(remaining):\n",
    "    #The base case\n",
    "    if remaining == 0:\n",
    "        return\n",
    "    print('hi')\n",
    "    \n",
    "    # Call to function, with a reduced remaining count\n",
    "    hi_recursive(remaining - 1)\n",
    "    "
   ]
  },
  {
   "cell_type": "code",
   "execution_count": 3,
   "metadata": {},
   "outputs": [],
   "source": [
    "#example 1: Sum of a list\n",
    "def sum_recursive(nums):\n",
    "    if len(nums) == 0:\n",
    "        return 0\n",
    "    \n",
    "    last_num = nums.pop()\n",
    "    return last_num + sum_recursive(nums)\n",
    "\n",
    "# sum([10, 5, 2]) return 17"
   ]
  },
  {
   "cell_type": "code",
   "execution_count": 4,
   "metadata": {},
   "outputs": [],
   "source": [
    "#example 2: Factorial Numbers\n",
    "def factorial(n):\n",
    "    if n == 0 or n == 1:\n",
    "        return 1\n",
    "    return n * factorial(n - 1)\n",
    "\n",
    "# factorial(5) return 120"
   ]
  },
  {
   "cell_type": "code",
   "execution_count": 5,
   "metadata": {},
   "outputs": [],
   "source": [
    "#example 3: Fibonacci Sequence\n",
    "def fibonacci(n):\n",
    "    if n == 0:\n",
    "        return 0\n",
    "    if n == 1:\n",
    "        return 1\n",
    "    return fibonacci(n - 1) + fibonacci(n - 2)\n",
    "\n",
    "# fibonacci(6) return 8 "
   ]
  },
  {
   "cell_type": "code",
   "execution_count": null,
   "metadata": {},
   "outputs": [],
   "source": []
  }
 ],
 "metadata": {
  "kernelspec": {
   "display_name": "Python 3",
   "language": "python",
   "name": "python3"
  },
  "language_info": {
   "codemirror_mode": {
    "name": "ipython",
    "version": 3
   },
   "file_extension": ".py",
   "mimetype": "text/x-python",
   "name": "python",
   "nbconvert_exporter": "python",
   "pygments_lexer": "ipython3",
   "version": "3.7.2"
  }
 },
 "nbformat": 4,
 "nbformat_minor": 2
}
